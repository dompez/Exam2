{
 "cells": [
  {
   "cell_type": "markdown",
   "id": "9b752c30-6efd-4044-acfb-21d087f390c6",
   "metadata": {},
   "source": [
    "# Exam 2\n",
    "### Author: \n",
    "#### Dominic L Perez"
   ]
  },
  {
   "cell_type": "code",
   "execution_count": 1,
   "id": "2673febd-a395-477e-bf53-e4bdd8fa761c",
   "metadata": {},
   "outputs": [],
   "source": [
    "import numpy as np\n",
    "import pandas as pd\n",
    "\n",
    "import matplotlib.pyplot as plt\n",
    "import plotly.express as px\n",
    "from plotly.subplots import make_subplots\n",
    "import plotly.io as pio\n",
    "pio.renderers.defaule = 'colab'\n",
    "\n",
    "from itables import show\n",
    "\n",
    "# This stops a few warning messages from showing\n",
    "pd.options.mode.chained_assignment = None \n",
    "import warnings\n",
    "warnings.simplefilter(action='ignore', category=FutureWarning)"
   ]
  },
  {
   "cell_type": "code",
   "execution_count": 2,
   "id": "21094ff8-187a-4e8a-8966-8f529ae6575e",
   "metadata": {},
   "outputs": [],
   "source": [
    "#Flights Data\n",
    "flight_file_name = 'flights'\n",
    "flight_file_location = 'https://joannabieri.com/introdatascience/data/'+flight_file_name+'.csv'"
   ]
  },
  {
   "cell_type": "code",
   "execution_count": 3,
   "id": "962cba3c-8fe6-44e8-955a-da7061373b9a",
   "metadata": {},
   "outputs": [],
   "source": [
    "#Weather Data \n",
    "weather_file_name = 'weather'\n",
    "weather_file_location = 'https://joannabieri.com/introdatascience/data/'+weather_file_name+'.csv'"
   ]
  },
  {
   "cell_type": "code",
   "execution_count": 4,
   "id": "eecde324-af07-4da4-b06d-365b55c9de19",
   "metadata": {},
   "outputs": [],
   "source": [
    "#Planes Data\n",
    "planes_file_name = 'planes'\n",
    "planes_file_location = 'https://joannabieri.com/introdatascience/data/'+planes_file_name+'.csv'"
   ]
  },
  {
   "cell_type": "code",
   "execution_count": 5,
   "id": "a3319aad-038f-4ece-b02e-5ddf523f9e33",
   "metadata": {},
   "outputs": [],
   "source": [
    "#Airports Data\n",
    "airports_file_name = 'airports'\n",
    "airports_file_location = 'https://joannabieri.com/introdatascience/data/'+airports_file_name+'.csv'"
   ]
  },
  {
   "cell_type": "code",
   "execution_count": 6,
   "id": "cf43612b-637a-4dbe-aa5f-8b42f7dd00ce",
   "metadata": {},
   "outputs": [],
   "source": [
    "#Airlines Data\n",
    "airlines_file_name = 'airlines'\n",
    "airlines_file_location = 'https://joannabieri.com/introdatascience/data/'+airlines_file_name+'.csv'"
   ]
  },
  {
   "cell_type": "code",
   "execution_count": 7,
   "id": "ff1346ed-ab32-4592-a6ad-f84f691547ba",
   "metadata": {
    "scrolled": true
   },
   "outputs": [
    {
     "data": {
      "text/html": [
       "<div>\n",
       "<style scoped>\n",
       "    .dataframe tbody tr th:only-of-type {\n",
       "        vertical-align: middle;\n",
       "    }\n",
       "\n",
       "    .dataframe tbody tr th {\n",
       "        vertical-align: top;\n",
       "    }\n",
       "\n",
       "    .dataframe thead th {\n",
       "        text-align: right;\n",
       "    }\n",
       "</style>\n",
       "<table border=\"1\" class=\"dataframe\">\n",
       "  <thead>\n",
       "    <tr style=\"text-align: right;\">\n",
       "      <th></th>\n",
       "      <th>year</th>\n",
       "      <th>month</th>\n",
       "      <th>day</th>\n",
       "      <th>dep_time</th>\n",
       "      <th>sched_dep_time</th>\n",
       "      <th>dep_delay</th>\n",
       "      <th>arr_time</th>\n",
       "      <th>sched_arr_time</th>\n",
       "      <th>arr_delay</th>\n",
       "      <th>carrier</th>\n",
       "      <th>flight</th>\n",
       "      <th>tailnum</th>\n",
       "      <th>origin</th>\n",
       "      <th>dest</th>\n",
       "      <th>air_time</th>\n",
       "      <th>distance</th>\n",
       "      <th>hour</th>\n",
       "      <th>minute</th>\n",
       "      <th>time_hour</th>\n",
       "    </tr>\n",
       "  </thead>\n",
       "  <tbody>\n",
       "    <tr>\n",
       "      <th>0</th>\n",
       "      <td>2013</td>\n",
       "      <td>1</td>\n",
       "      <td>1</td>\n",
       "      <td>517.0</td>\n",
       "      <td>515</td>\n",
       "      <td>2.0</td>\n",
       "      <td>830.0</td>\n",
       "      <td>819</td>\n",
       "      <td>11.0</td>\n",
       "      <td>UA</td>\n",
       "      <td>1545</td>\n",
       "      <td>N14228</td>\n",
       "      <td>EWR</td>\n",
       "      <td>IAH</td>\n",
       "      <td>227.0</td>\n",
       "      <td>1400.0</td>\n",
       "      <td>5.0</td>\n",
       "      <td>15.0</td>\n",
       "      <td>2013-01-01 10:00:00</td>\n",
       "    </tr>\n",
       "    <tr>\n",
       "      <th>1</th>\n",
       "      <td>2013</td>\n",
       "      <td>1</td>\n",
       "      <td>1</td>\n",
       "      <td>533.0</td>\n",
       "      <td>529</td>\n",
       "      <td>4.0</td>\n",
       "      <td>850.0</td>\n",
       "      <td>830</td>\n",
       "      <td>20.0</td>\n",
       "      <td>UA</td>\n",
       "      <td>1714</td>\n",
       "      <td>N24211</td>\n",
       "      <td>LGA</td>\n",
       "      <td>IAH</td>\n",
       "      <td>227.0</td>\n",
       "      <td>1416.0</td>\n",
       "      <td>5.0</td>\n",
       "      <td>29.0</td>\n",
       "      <td>2013-01-01 10:00:00</td>\n",
       "    </tr>\n",
       "    <tr>\n",
       "      <th>2</th>\n",
       "      <td>2013</td>\n",
       "      <td>1</td>\n",
       "      <td>1</td>\n",
       "      <td>542.0</td>\n",
       "      <td>540</td>\n",
       "      <td>2.0</td>\n",
       "      <td>923.0</td>\n",
       "      <td>850</td>\n",
       "      <td>33.0</td>\n",
       "      <td>AA</td>\n",
       "      <td>1141</td>\n",
       "      <td>N619AA</td>\n",
       "      <td>JFK</td>\n",
       "      <td>MIA</td>\n",
       "      <td>160.0</td>\n",
       "      <td>1089.0</td>\n",
       "      <td>5.0</td>\n",
       "      <td>40.0</td>\n",
       "      <td>2013-01-01 10:00:00</td>\n",
       "    </tr>\n",
       "    <tr>\n",
       "      <th>3</th>\n",
       "      <td>2013</td>\n",
       "      <td>1</td>\n",
       "      <td>1</td>\n",
       "      <td>544.0</td>\n",
       "      <td>545</td>\n",
       "      <td>-1.0</td>\n",
       "      <td>1004.0</td>\n",
       "      <td>1022</td>\n",
       "      <td>-18.0</td>\n",
       "      <td>B6</td>\n",
       "      <td>725</td>\n",
       "      <td>N804JB</td>\n",
       "      <td>JFK</td>\n",
       "      <td>BQN</td>\n",
       "      <td>183.0</td>\n",
       "      <td>1576.0</td>\n",
       "      <td>5.0</td>\n",
       "      <td>45.0</td>\n",
       "      <td>2013-01-01 10:00:00</td>\n",
       "    </tr>\n",
       "    <tr>\n",
       "      <th>4</th>\n",
       "      <td>2013</td>\n",
       "      <td>1</td>\n",
       "      <td>1</td>\n",
       "      <td>554.0</td>\n",
       "      <td>600</td>\n",
       "      <td>-6.0</td>\n",
       "      <td>812.0</td>\n",
       "      <td>837</td>\n",
       "      <td>-25.0</td>\n",
       "      <td>DL</td>\n",
       "      <td>461</td>\n",
       "      <td>N668DN</td>\n",
       "      <td>LGA</td>\n",
       "      <td>ATL</td>\n",
       "      <td>116.0</td>\n",
       "      <td>762.0</td>\n",
       "      <td>6.0</td>\n",
       "      <td>0.0</td>\n",
       "      <td>2013-01-01 11:00:00</td>\n",
       "    </tr>\n",
       "  </tbody>\n",
       "</table>\n",
       "</div>"
      ],
      "text/plain": [
       "   year  month  day  dep_time  sched_dep_time  dep_delay  arr_time  \\\n",
       "0  2013      1    1     517.0             515        2.0     830.0   \n",
       "1  2013      1    1     533.0             529        4.0     850.0   \n",
       "2  2013      1    1     542.0             540        2.0     923.0   \n",
       "3  2013      1    1     544.0             545       -1.0    1004.0   \n",
       "4  2013      1    1     554.0             600       -6.0     812.0   \n",
       "\n",
       "   sched_arr_time  arr_delay carrier  flight tailnum origin dest  air_time  \\\n",
       "0             819       11.0      UA    1545  N14228    EWR  IAH     227.0   \n",
       "1             830       20.0      UA    1714  N24211    LGA  IAH     227.0   \n",
       "2             850       33.0      AA    1141  N619AA    JFK  MIA     160.0   \n",
       "3            1022      -18.0      B6     725  N804JB    JFK  BQN     183.0   \n",
       "4             837      -25.0      DL     461  N668DN    LGA  ATL     116.0   \n",
       "\n",
       "   distance  hour  minute            time_hour  \n",
       "0    1400.0   5.0    15.0  2013-01-01 10:00:00  \n",
       "1    1416.0   5.0    29.0  2013-01-01 10:00:00  \n",
       "2    1089.0   5.0    40.0  2013-01-01 10:00:00  \n",
       "3    1576.0   5.0    45.0  2013-01-01 10:00:00  \n",
       "4     762.0   6.0     0.0  2013-01-01 11:00:00  "
      ]
     },
     "execution_count": 7,
     "metadata": {},
     "output_type": "execute_result"
    }
   ],
   "source": [
    "# Load flights data.\n",
    "df_flights = pd.read_csv(flight_file_location)\n",
    "df_flights.head()"
   ]
  },
  {
   "cell_type": "markdown",
   "id": "9d953321-c2e1-443b-b796-6f20228a3d19",
   "metadata": {
    "jp-MarkdownHeadingCollapsed": true
   },
   "source": [
    "# P. Preliminaries(5 points)"
   ]
  },
  {
   "cell_type": "code",
   "execution_count": 8,
   "id": "38c1ba31-c08a-4d9a-8706-5c873631ffda",
   "metadata": {},
   "outputs": [
    {
     "name": "stdout",
     "output_type": "stream",
     "text": [
      "336776 observations\n",
      "19 variables\n"
     ]
    }
   ],
   "source": [
    "#Shows how many observations and variables there are.\n",
    "print(df_flights.shape[0],'observations')\n",
    "print(df_flights.shape[1],'variables')"
   ]
  },
  {
   "cell_type": "code",
   "execution_count": 9,
   "id": "bc773396-e263-4690-83b8-f6cdfc5ba6c4",
   "metadata": {
    "scrolled": true
   },
   "outputs": [
    {
     "name": "stdout",
     "output_type": "stream",
     "text": [
      "<class 'pandas.core.frame.DataFrame'>\n",
      "RangeIndex: 336776 entries, 0 to 336775\n",
      "Data columns (total 19 columns):\n",
      " #   Column          Non-Null Count   Dtype  \n",
      "---  ------          --------------   -----  \n",
      " 0   year            336776 non-null  int64  \n",
      " 1   month           336776 non-null  int64  \n",
      " 2   day             336776 non-null  int64  \n",
      " 3   dep_time        328521 non-null  float64\n",
      " 4   sched_dep_time  336776 non-null  int64  \n",
      " 5   dep_delay       328521 non-null  float64\n",
      " 6   arr_time        328063 non-null  float64\n",
      " 7   sched_arr_time  336776 non-null  int64  \n",
      " 8   arr_delay       327346 non-null  float64\n",
      " 9   carrier         336776 non-null  object \n",
      " 10  flight          336776 non-null  int64  \n",
      " 11  tailnum         334264 non-null  object \n",
      " 12  origin          336776 non-null  object \n",
      " 13  dest            336776 non-null  object \n",
      " 14  air_time        327346 non-null  float64\n",
      " 15  distance        336776 non-null  float64\n",
      " 16  hour            336776 non-null  float64\n",
      " 17  minute          336776 non-null  float64\n",
      " 18  time_hour       336776 non-null  object \n",
      "dtypes: float64(8), int64(6), object(5)\n",
      "memory usage: 48.8+ MB\n"
     ]
    }
   ],
   "source": [
    "#Brief overview of the data types and variable.\n",
    "df_flights.info()"
   ]
  },
  {
   "cell_type": "markdown",
   "id": "d3f6e9f0-41ec-485c-898c-d82a332799a1",
   "metadata": {},
   "source": [
    "|Data Variable Name|Categorical or Numerical|Data Type|\n",
    "|------------------|-----------|---------|\n",
    "|year|Numerical|int64|\n",
    "|month|Numerical|int64|\n",
    "|day|Numerical|int64|\n",
    "|dep_time|Numerical|float64|\n",
    "|sched_dep_time|Numerical|int64|\n",
    "|dep_delay|Numerical|float64|\n",
    "|arr_time|Numerical|float64|\n",
    "|sched_arr_time|Numerical|int64|\n",
    "|arr_delay|Numerical|float64|\n",
    "|carrier|Categorical|object|\n",
    "|flight|Numerical|int64|\n",
    "|tailnum|Categorical|object|\n",
    "|origin|Categorical|object|\n",
    "|dest|Categorical|object|\n",
    "|air_time|Numerical|float64|\n",
    "|distance|Numerical|float64|\n",
    "|hour|Numerical|float64|\n",
    "|minute|Numerical|float64|\n",
    "|time_hour|Categorical|object|"
   ]
  },
  {
   "cell_type": "code",
   "execution_count": 10,
   "id": "a22dad90-a49f-44cd-a694-e06e1e2c4a9d",
   "metadata": {
    "scrolled": true
   },
   "outputs": [
    {
     "name": "stdout",
     "output_type": "stream",
     "text": [
      "year\n",
      "False    336776\n",
      "Name: count, dtype: int64\n",
      "\n",
      "month\n",
      "False    336776\n",
      "Name: count, dtype: int64\n",
      "\n",
      "day\n",
      "False    336776\n",
      "Name: count, dtype: int64\n",
      "\n",
      "dep_time\n",
      "False    328521\n",
      "True       8255\n",
      "Name: count, dtype: int64\n",
      "\n",
      "sched_dep_time\n",
      "False    336776\n",
      "Name: count, dtype: int64\n",
      "\n",
      "dep_delay\n",
      "False    328521\n",
      "True       8255\n",
      "Name: count, dtype: int64\n",
      "\n",
      "arr_time\n",
      "False    328063\n",
      "True       8713\n",
      "Name: count, dtype: int64\n",
      "\n",
      "sched_arr_time\n",
      "False    336776\n",
      "Name: count, dtype: int64\n",
      "\n",
      "arr_delay\n",
      "False    327346\n",
      "True       9430\n",
      "Name: count, dtype: int64\n",
      "\n",
      "carrier\n",
      "False    336776\n",
      "Name: count, dtype: int64\n",
      "\n",
      "flight\n",
      "False    336776\n",
      "Name: count, dtype: int64\n",
      "\n",
      "tailnum\n",
      "False    334264\n",
      "True       2512\n",
      "Name: count, dtype: int64\n",
      "\n",
      "origin\n",
      "False    336776\n",
      "Name: count, dtype: int64\n",
      "\n",
      "dest\n",
      "False    336776\n",
      "Name: count, dtype: int64\n",
      "\n",
      "air_time\n",
      "False    327346\n",
      "True       9430\n",
      "Name: count, dtype: int64\n",
      "\n",
      "distance\n",
      "False    336776\n",
      "Name: count, dtype: int64\n",
      "\n",
      "hour\n",
      "False    336776\n",
      "Name: count, dtype: int64\n",
      "\n",
      "minute\n",
      "False    336776\n",
      "Name: count, dtype: int64\n",
      "\n",
      "time_hour\n",
      "False    336776\n",
      "Name: count, dtype: int64\n",
      "\n"
     ]
    }
   ],
   "source": [
    "#Shows how many missing values there are for each column. \n",
    "missing_data = df_flights.isnull()\n",
    "for columns in missing_data.columns.values.tolist():\n",
    "   print(missing_data[columns].value_counts())\n",
    "   print('')"
   ]
  },
  {
   "cell_type": "markdown",
   "id": "3b411bc5-3c10-457c-b453-be4c3fecbbb4",
   "metadata": {
    "jp-MarkdownHeadingCollapsed": true
   },
   "source": [
    "# 1. Question 1 (5 points)\n",
    "What are the ten most common destinations for flights from NYC airports in 2013?"
   ]
  },
  {
   "cell_type": "markdown",
   "id": "d521266d-71cd-48eb-9936-94f7f4f03f1b",
   "metadata": {
    "jp-MarkdownHeadingCollapsed": true
   },
   "source": [
    "Make a table (Data Frame) that lists these in descending order of frequency and shows the number of flights heading to each airport.\n",
    "\n",
    "Hint: You can use the airports dataset to look up the airport name based on dest code. This is the ‘faa’ code. BEWARE: If you load in a new data frame give it a new name! Our main data is in DF."
   ]
  },
  {
   "cell_type": "code",
   "execution_count": 11,
   "id": "807bb9b4-af48-4bb2-ae83-c4d364e5355c",
   "metadata": {},
   "outputs": [
    {
     "data": {
      "text/html": [
       "<div>\n",
       "<style scoped>\n",
       "    .dataframe tbody tr th:only-of-type {\n",
       "        vertical-align: middle;\n",
       "    }\n",
       "\n",
       "    .dataframe tbody tr th {\n",
       "        vertical-align: top;\n",
       "    }\n",
       "\n",
       "    .dataframe thead th {\n",
       "        text-align: right;\n",
       "    }\n",
       "</style>\n",
       "<table border=\"1\" class=\"dataframe\">\n",
       "  <thead>\n",
       "    <tr style=\"text-align: right;\">\n",
       "      <th></th>\n",
       "      <th>flights</th>\n",
       "    </tr>\n",
       "    <tr>\n",
       "      <th>dest</th>\n",
       "      <th></th>\n",
       "    </tr>\n",
       "  </thead>\n",
       "  <tbody>\n",
       "    <tr>\n",
       "      <th>ORD</th>\n",
       "      <td>17283</td>\n",
       "    </tr>\n",
       "    <tr>\n",
       "      <th>ATL</th>\n",
       "      <td>17215</td>\n",
       "    </tr>\n",
       "    <tr>\n",
       "      <th>LAX</th>\n",
       "      <td>16174</td>\n",
       "    </tr>\n",
       "    <tr>\n",
       "      <th>BOS</th>\n",
       "      <td>15508</td>\n",
       "    </tr>\n",
       "    <tr>\n",
       "      <th>MCO</th>\n",
       "      <td>14082</td>\n",
       "    </tr>\n",
       "    <tr>\n",
       "      <th>CLT</th>\n",
       "      <td>14064</td>\n",
       "    </tr>\n",
       "    <tr>\n",
       "      <th>SFO</th>\n",
       "      <td>13331</td>\n",
       "    </tr>\n",
       "    <tr>\n",
       "      <th>FLL</th>\n",
       "      <td>12055</td>\n",
       "    </tr>\n",
       "    <tr>\n",
       "      <th>MIA</th>\n",
       "      <td>11728</td>\n",
       "    </tr>\n",
       "    <tr>\n",
       "      <th>DCA</th>\n",
       "      <td>9705</td>\n",
       "    </tr>\n",
       "  </tbody>\n",
       "</table>\n",
       "</div>"
      ],
      "text/plain": [
       "      flights\n",
       "dest         \n",
       "ORD     17283\n",
       "ATL     17215\n",
       "LAX     16174\n",
       "BOS     15508\n",
       "MCO     14082\n",
       "CLT     14064\n",
       "SFO     13331\n",
       "FLL     12055\n",
       "MIA     11728\n",
       "DCA      9705"
      ]
     },
     "execution_count": 11,
     "metadata": {},
     "output_type": "execute_result"
    }
   ],
   "source": [
    "# Insert code here\n",
    "#Note: This dataset ONLY contains 2013 data, no need to condition.\n",
    "#Note: EWR, LGA, JFK are the only origin airports and all reside in NYC, \n",
    "#      no need to condition.\n",
    "top10_dest = df_flights['dest'].value_counts().head(10)\n",
    "pd.DataFrame(top10_dest).rename(columns = {'count':'flights'})"
   ]
  },
  {
   "cell_type": "markdown",
   "id": "fe5aad53-14f2-4d43-81ab-17c4540c409b",
   "metadata": {},
   "source": [
    "Above is a list of the top ten most visited airports from NYC. We can see the **most visited airport** from NYC is the **Chicago O'Hare International airport(ORD)**, followed closely by the Hartsfield-Jackson Atlanta International Airport(ATL). On the westcoast, the \n",
    "Los Angeles International Airport(LAX) is third.  "
   ]
  },
  {
   "cell_type": "markdown",
   "id": "1588ade0-ec8e-4653-ba59-2e0677e99699",
   "metadata": {
    "jp-MarkdownHeadingCollapsed": true
   },
   "source": [
    "# 2. Question 2 (5 points)\n",
    "Which airlines have the most flights departing from NYC airports in 2013?"
   ]
  },
  {
   "cell_type": "markdown",
   "id": "fd1c2b46-a4f7-48e5-a33b-d7a63848dfd9",
   "metadata": {},
   "source": [
    "Make a table(Data Frame) that lists these in descending order of frequency and shows the number of flights for each airline. In your narrative mention the names of the airlines as well.\n",
    "\n",
    "Hint: You can use the airlines dataset to look up the airline name based on carrier code. BEWARE: If you load in a new data frame give it a new name! Our main data is in DF."
   ]
  },
  {
   "cell_type": "code",
   "execution_count": 12,
   "id": "cbd1b37c-f314-44f0-aad7-5fe7635eda4c",
   "metadata": {},
   "outputs": [
    {
     "data": {
      "text/html": [
       "<div>\n",
       "<style scoped>\n",
       "    .dataframe tbody tr th:only-of-type {\n",
       "        vertical-align: middle;\n",
       "    }\n",
       "\n",
       "    .dataframe tbody tr th {\n",
       "        vertical-align: top;\n",
       "    }\n",
       "\n",
       "    .dataframe thead th {\n",
       "        text-align: right;\n",
       "    }\n",
       "</style>\n",
       "<table border=\"1\" class=\"dataframe\">\n",
       "  <thead>\n",
       "    <tr style=\"text-align: right;\">\n",
       "      <th></th>\n",
       "      <th>flights</th>\n",
       "    </tr>\n",
       "    <tr>\n",
       "      <th>carrier</th>\n",
       "      <th></th>\n",
       "    </tr>\n",
       "  </thead>\n",
       "  <tbody>\n",
       "    <tr>\n",
       "      <th>UA</th>\n",
       "      <td>58665</td>\n",
       "    </tr>\n",
       "    <tr>\n",
       "      <th>B6</th>\n",
       "      <td>54635</td>\n",
       "    </tr>\n",
       "    <tr>\n",
       "      <th>EV</th>\n",
       "      <td>54173</td>\n",
       "    </tr>\n",
       "    <tr>\n",
       "      <th>DL</th>\n",
       "      <td>48110</td>\n",
       "    </tr>\n",
       "    <tr>\n",
       "      <th>AA</th>\n",
       "      <td>32729</td>\n",
       "    </tr>\n",
       "  </tbody>\n",
       "</table>\n",
       "</div>"
      ],
      "text/plain": [
       "         flights\n",
       "carrier         \n",
       "UA         58665\n",
       "B6         54635\n",
       "EV         54173\n",
       "DL         48110\n",
       "AA         32729"
      ]
     },
     "execution_count": 12,
     "metadata": {},
     "output_type": "execute_result"
    }
   ],
   "source": [
    "# Insert code here\n",
    "#Note: This dataset ONLY contains 2013 data, no need to condition.\n",
    "#Note: All origin airports reside in NYC, no need to condition.\n",
    "top10_carrier = df_flights['carrier'].value_counts().head(5)\n",
    "pd.DataFrame(top10_carrier).rename(columns = {'count':'flights'})"
   ]
  },
  {
   "cell_type": "markdown",
   "id": "c36ce294-b4e5-4568-9b1a-7a9b4789337b",
   "metadata": {},
   "source": [
    "The list above shows the top ten most flown airlines from NYC airports. The **most flown airline** from NYC is **United Airlines(UA)**. Second is JetBlue Airways(B6), which is followed closely by ExpressJet Airlines(EV)."
   ]
  },
  {
   "cell_type": "markdown",
   "id": "eaba22cb-9dd5-4372-99d5-f8a69413f06b",
   "metadata": {
    "jp-MarkdownHeadingCollapsed": true
   },
   "source": [
    "# 3. Question 3 (10 points)\n",
    "Consider only flights that have non-missing arrival delay information and answer the questions below. Your answer should include the name of the carrier in addition to the carrier code and the values asked."
   ]
  },
  {
   "cell_type": "markdown",
   "id": "a6ae814a-e4cb-442e-b9a3-320c5dd259ed",
   "metadata": {},
   "source": [
    "Hint: The easiest way to do this is replace the NaNs in just the ‘arr_delay’ column with some other string, like ‘NA’ and then create a mask, but you could also use some of the more fancy na tools."
   ]
  },
  {
   "cell_type": "code",
   "execution_count": 13,
   "id": "a86f4700-e8e7-42b0-922f-0733d00c7d3a",
   "metadata": {},
   "outputs": [
    {
     "data": {
      "text/html": [
       "<div>\n",
       "<style scoped>\n",
       "    .dataframe tbody tr th:only-of-type {\n",
       "        vertical-align: middle;\n",
       "    }\n",
       "\n",
       "    .dataframe tbody tr th {\n",
       "        vertical-align: top;\n",
       "    }\n",
       "\n",
       "    .dataframe thead th {\n",
       "        text-align: right;\n",
       "    }\n",
       "</style>\n",
       "<table border=\"1\" class=\"dataframe\">\n",
       "  <thead>\n",
       "    <tr style=\"text-align: right;\">\n",
       "      <th></th>\n",
       "      <th>arr_delay</th>\n",
       "      <th>carrier</th>\n",
       "    </tr>\n",
       "  </thead>\n",
       "  <tbody>\n",
       "    <tr>\n",
       "      <th>0</th>\n",
       "      <td>11.0</td>\n",
       "      <td>UA</td>\n",
       "    </tr>\n",
       "    <tr>\n",
       "      <th>1</th>\n",
       "      <td>20.0</td>\n",
       "      <td>UA</td>\n",
       "    </tr>\n",
       "    <tr>\n",
       "      <th>2</th>\n",
       "      <td>33.0</td>\n",
       "      <td>AA</td>\n",
       "    </tr>\n",
       "    <tr>\n",
       "      <th>3</th>\n",
       "      <td>-18.0</td>\n",
       "      <td>B6</td>\n",
       "    </tr>\n",
       "    <tr>\n",
       "      <th>4</th>\n",
       "      <td>-25.0</td>\n",
       "      <td>DL</td>\n",
       "    </tr>\n",
       "  </tbody>\n",
       "</table>\n",
       "</div>"
      ],
      "text/plain": [
       "   arr_delay carrier\n",
       "0       11.0      UA\n",
       "1       20.0      UA\n",
       "2       33.0      AA\n",
       "3      -18.0      B6\n",
       "4      -25.0      DL"
      ]
     },
     "execution_count": 13,
     "metadata": {},
     "output_type": "execute_result"
    }
   ],
   "source": [
    "# Selecting rows with non_missing arival delay data and placing in new df\n",
    "dfQ3 = df_flights[['arr_delay','carrier']].dropna()\n",
    "dfQ3.head() #Note: Negative values indicate early arrival."
   ]
  },
  {
   "cell_type": "markdown",
   "id": "cbd5effa-70f8-4913-9187-542f75369f1e",
   "metadata": {},
   "source": [
    "a. Which carrier had the highest mean arrival delay?"
   ]
  },
  {
   "cell_type": "code",
   "execution_count": 14,
   "id": "965cba6f-ee57-4069-9807-500211ecbb7e",
   "metadata": {},
   "outputs": [
    {
     "data": {
      "text/html": [
       "<div>\n",
       "<style scoped>\n",
       "    .dataframe tbody tr th:only-of-type {\n",
       "        vertical-align: middle;\n",
       "    }\n",
       "\n",
       "    .dataframe tbody tr th {\n",
       "        vertical-align: top;\n",
       "    }\n",
       "\n",
       "    .dataframe thead th {\n",
       "        text-align: right;\n",
       "    }\n",
       "</style>\n",
       "<table border=\"1\" class=\"dataframe\">\n",
       "  <thead>\n",
       "    <tr style=\"text-align: right;\">\n",
       "      <th></th>\n",
       "      <th>mean_arr_delay</th>\n",
       "    </tr>\n",
       "    <tr>\n",
       "      <th>carrier</th>\n",
       "      <th></th>\n",
       "    </tr>\n",
       "  </thead>\n",
       "  <tbody>\n",
       "    <tr>\n",
       "      <th>F9</th>\n",
       "      <td>21.920705</td>\n",
       "    </tr>\n",
       "  </tbody>\n",
       "</table>\n",
       "</div>"
      ],
      "text/plain": [
       "         mean_arr_delay\n",
       "carrier                \n",
       "F9            21.920705"
      ]
     },
     "execution_count": 14,
     "metadata": {},
     "output_type": "execute_result"
    }
   ],
   "source": [
    "# Insert code here\n",
    "dfQ3.groupby('carrier').mean().sort_values(by = 'arr_delay', ascending = False).head(1).rename(columns = {'arr_delay':'mean_arr_delay'})"
   ]
  },
  {
   "cell_type": "markdown",
   "id": "c1e0708c-f83c-4acb-a341-b4f54510e823",
   "metadata": {},
   "source": [
    "We can see above, the airline with the **highest average arrival delay time** is **Frontier Airlines(F9)**, with an average delay of 21 minutes and 55 seconds per flight. "
   ]
  },
  {
   "cell_type": "markdown",
   "id": "b6ecd242-5ab0-4294-90d3-e10e186e42cc",
   "metadata": {},
   "source": [
    "b. Which carrier had the lowest mean arrival delay?"
   ]
  },
  {
   "cell_type": "code",
   "execution_count": 15,
   "id": "5c25b67b-e9aa-4f0a-bd0e-8e259e93b4ec",
   "metadata": {},
   "outputs": [
    {
     "data": {
      "text/html": [
       "<div>\n",
       "<style scoped>\n",
       "    .dataframe tbody tr th:only-of-type {\n",
       "        vertical-align: middle;\n",
       "    }\n",
       "\n",
       "    .dataframe tbody tr th {\n",
       "        vertical-align: top;\n",
       "    }\n",
       "\n",
       "    .dataframe thead th {\n",
       "        text-align: right;\n",
       "    }\n",
       "</style>\n",
       "<table border=\"1\" class=\"dataframe\">\n",
       "  <thead>\n",
       "    <tr style=\"text-align: right;\">\n",
       "      <th></th>\n",
       "      <th>mean_arr_delay</th>\n",
       "    </tr>\n",
       "    <tr>\n",
       "      <th>carrier</th>\n",
       "      <th></th>\n",
       "    </tr>\n",
       "  </thead>\n",
       "  <tbody>\n",
       "    <tr>\n",
       "      <th>AS</th>\n",
       "      <td>-9.930889</td>\n",
       "    </tr>\n",
       "  </tbody>\n",
       "</table>\n",
       "</div>"
      ],
      "text/plain": [
       "         mean_arr_delay\n",
       "carrier                \n",
       "AS            -9.930889"
      ]
     },
     "execution_count": 15,
     "metadata": {},
     "output_type": "execute_result"
    }
   ],
   "source": [
    "# Insert code here\n",
    "dfQ3.groupby('carrier').mean().sort_values(by = 'arr_delay', ascending = True).head(1).rename(columns = {'arr_delay':'mean_arr_delay'})"
   ]
  },
  {
   "cell_type": "markdown",
   "id": "0cfc2d5e-de98-4567-b6d7-e8aaf43c0595",
   "metadata": {},
   "source": [
    "Additionally, above we can see the airline with the **lowest average arrival delay time**, which is **Frontier Airlines(F9)** with an average delay of -9 minutes and 55 seconds per flight, meaning, they arrive, on average, 10 minutes **early** per flight.  "
   ]
  },
  {
   "cell_type": "markdown",
   "id": "407179fd-f571-4f4b-a0eb-6ae82347d9ab",
   "metadata": {
    "jp-MarkdownHeadingCollapsed": true
   },
   "source": [
    "# 4. Question 4 (15 points)\n",
    "Consider breaking the day into four time intervals: 12:00am-6am, 6:01am-12pm, 12:01pm-6pm, 6:01pm-11:59pm, then answer the questions below."
   ]
  },
  {
   "cell_type": "markdown",
   "id": "a13c0b97-d004-453f-8877-b6f5b1734d28",
   "metadata": {},
   "source": [
    "Hint: the data puts uses the format HHMM or HMM for hours and minutes and uses a 24-hour clock. So 12:01am = 1, 6am = 600,…., 6:01pm = 1801, 12am = 0. We did something similar to this in our homework when we were gathering age groups for our Lego purchasers."
   ]
  },
  {
   "cell_type": "markdown",
   "id": "b195bd2c-06f1-4fbb-b217-e65cf966208c",
   "metadata": {},
   "source": [
    "a. Calculate the proportion of flights that are delayed at departure at each of these time intervals."
   ]
  },
  {
   "cell_type": "code",
   "execution_count": 46,
   "id": "12680cef-e2da-40d7-9cfa-b98c7c433934",
   "metadata": {},
   "outputs": [
    {
     "data": {
      "text/html": [
       "<div>\n",
       "<style scoped>\n",
       "    .dataframe tbody tr th:only-of-type {\n",
       "        vertical-align: middle;\n",
       "    }\n",
       "\n",
       "    .dataframe tbody tr th {\n",
       "        vertical-align: top;\n",
       "    }\n",
       "\n",
       "    .dataframe thead th {\n",
       "        text-align: right;\n",
       "    }\n",
       "</style>\n",
       "<table border=\"1\" class=\"dataframe\">\n",
       "  <thead>\n",
       "    <tr style=\"text-align: right;\">\n",
       "      <th></th>\n",
       "      <th>dep_time</th>\n",
       "      <th>hour_interval</th>\n",
       "      <th>dep_delay</th>\n",
       "    </tr>\n",
       "  </thead>\n",
       "  <tbody>\n",
       "    <tr>\n",
       "      <th>0</th>\n",
       "      <td>517.0</td>\n",
       "      <td>12:00am-6am</td>\n",
       "      <td>2.0</td>\n",
       "    </tr>\n",
       "    <tr>\n",
       "      <th>1</th>\n",
       "      <td>533.0</td>\n",
       "      <td>12:00am-6am</td>\n",
       "      <td>4.0</td>\n",
       "    </tr>\n",
       "    <tr>\n",
       "      <th>2</th>\n",
       "      <td>542.0</td>\n",
       "      <td>12:00am-6am</td>\n",
       "      <td>2.0</td>\n",
       "    </tr>\n",
       "    <tr>\n",
       "      <th>3</th>\n",
       "      <td>601.0</td>\n",
       "      <td>6:01am-12:00pm</td>\n",
       "      <td>1.0</td>\n",
       "    </tr>\n",
       "    <tr>\n",
       "      <th>4</th>\n",
       "      <td>608.0</td>\n",
       "      <td>6:01am-12:00pm</td>\n",
       "      <td>8.0</td>\n",
       "    </tr>\n",
       "  </tbody>\n",
       "</table>\n",
       "</div>"
      ],
      "text/plain": [
       "   dep_time   hour_interval  dep_delay\n",
       "0     517.0     12:00am-6am        2.0\n",
       "1     533.0     12:00am-6am        4.0\n",
       "2     542.0     12:00am-6am        2.0\n",
       "3     601.0  6:01am-12:00pm        1.0\n",
       "4     608.0  6:01am-12:00pm        8.0"
      ]
     },
     "execution_count": 46,
     "metadata": {},
     "output_type": "execute_result"
    }
   ],
   "source": [
    "# Insert code here\n",
    "# Create a new dataframe only when dep_delay > 0.\n",
    "mask = df_flights['dep_delay'] > 0\n",
    "dfQ4a = df_flights[mask]\n",
    "dfQ4a.reset_index(drop = True, inplace = True)\n",
    "\n",
    "# Create a new column converting dep_time into intervals.\n",
    "labels = ['12:00am-6am','6:01am-12:00pm','12:01pm-6pm','6:01pm-11:59pm']\n",
    "bins = [0,600,1200,1800,2400]\n",
    "dfQ4a['hour_interval'] = pd.cut(dfQ4a['dep_time'],bins = bins, labels = labels)\n",
    "\n",
    "# Result of code above\n",
    "dfQ4a[['dep_time','hour_interval','dep_delay']].head()"
   ]
  },
  {
   "cell_type": "code",
   "execution_count": 65,
   "id": "d3062d40-1b3e-47bd-99b6-992c6f5e8a2b",
   "metadata": {},
   "outputs": [
    {
     "data": {
      "text/html": [
       "<div>\n",
       "<style scoped>\n",
       "    .dataframe tbody tr th:only-of-type {\n",
       "        vertical-align: middle;\n",
       "    }\n",
       "\n",
       "    .dataframe tbody tr th {\n",
       "        vertical-align: top;\n",
       "    }\n",
       "\n",
       "    .dataframe thead th {\n",
       "        text-align: right;\n",
       "    }\n",
       "</style>\n",
       "<table border=\"1\" class=\"dataframe\">\n",
       "  <thead>\n",
       "    <tr style=\"text-align: right;\">\n",
       "      <th>hour_interval</th>\n",
       "      <th>12:01pm-6pm</th>\n",
       "      <th>6:01pm-11:59pm</th>\n",
       "      <th>6:01am-12:00pm</th>\n",
       "      <th>12:00am-6am</th>\n",
       "      <th>total</th>\n",
       "    </tr>\n",
       "  </thead>\n",
       "  <tbody>\n",
       "    <tr>\n",
       "      <th>count</th>\n",
       "      <td>53151</td>\n",
       "      <td>43550</td>\n",
       "      <td>30178</td>\n",
       "      <td>1553</td>\n",
       "      <td>128432</td>\n",
       "    </tr>\n",
       "  </tbody>\n",
       "</table>\n",
       "</div>"
      ],
      "text/plain": [
       "hour_interval  12:01pm-6pm  6:01pm-11:59pm  6:01am-12:00pm  12:00am-6am  \\\n",
       "count                53151           43550           30178         1553   \n",
       "\n",
       "hour_interval   total  \n",
       "count          128432  "
      ]
     },
     "execution_count": 65,
     "metadata": {},
     "output_type": "execute_result"
    }
   ],
   "source": [
    "# Group by hour_interval and create a data frame\n",
    "df_delays = pd.DataFrame(dfQ4a['hour_interval'].value_counts())\n",
    "df_delays = df_delays.transpose()\n",
    "df_delays['total'] = df_delays.sum(axis = 1)\n",
    "df_delays"
   ]
  },
  {
   "cell_type": "code",
   "execution_count": 71,
   "id": "2a13f223-5a88-4763-b85c-ee38850648df",
   "metadata": {},
   "outputs": [
    {
     "name": "stdout",
     "output_type": "stream",
     "text": [
      "Proportion for 12:01pm to 6pm: count    0.413845\n",
      "dtype: float64\n",
      "Proportion for 6:01pm-11:59pm: count    0.33909\n",
      "dtype: float64\n",
      "Proportion for 6:01am-12:00pm: count    0.234973\n",
      "dtype: float64\n",
      "Proportion for 12:00am-6am: count    0.012092\n",
      "dtype: float64\n"
     ]
    }
   ],
   "source": [
    "# Proportion for 12:01pm to 6pm\n",
    "prop_1201p_to_6p = df_delays['12:01pm-6pm'] / df_delays['total']\n",
    "print('Proportion for 12:01pm to 6pm:',prop_1201p_to_6p)\n",
    "\n",
    "# Proportion for 6:01pm to 11:59pm\n",
    "prop_601p_to_1159p = df_delays['6:01pm-11:59pm'] / df_delays['total']\n",
    "print('Proportion for 6:01pm-11:59pm:',prop_601p_to_1159p)\n",
    "\n",
    "# Proportion for 6:01am to 12:00pm\n",
    "prop_601a_to_1200p = df_delays['6:01am-12:00pm'] / df_delays['total']\n",
    "print('Proportion for 6:01am-12:00pm:',prop_601a_to_1200p)\n",
    "\n",
    "# Proportion for 12:00am to 6am\n",
    "prop_1200a_to_6a = df_delays['12:00am-6am'] / df_delays['total']\n",
    "print('Proportion for 12:00am-6am:',prop_1200a_to_6a)"
   ]
  },
  {
   "cell_type": "markdown",
   "id": "e6548571-d088-4a56-9bf4-2562f6fdea2d",
   "metadata": {},
   "source": [
    "|Hour Interval|Proportion of Flights Delayed|\n",
    "|-------------|------------------|\n",
    "|12:00am to 6am|0.013||\n",
    "|6:01am to 12:00pm|0.235|\n",
    "|12:01pm to 6pm|0.412|\n",
    "|6:01pm to 11:59pm|0.34|"
   ]
  },
  {
   "cell_type": "markdown",
   "id": "c189dc57-d832-4542-9f15-ec63627bb03a",
   "metadata": {},
   "source": [
    "From the table above, most flights are delayed in the afternoon and evening, with a peak between 12:00pm to 6:00pm. In contrast, only a small amount are delayed in the early morning, from 12:00am to 6am. We can see there is a positive linear trend between the time of day and how many delayed flights there are. "
   ]
  },
  {
   "cell_type": "markdown",
   "id": "43352112-2b0a-4f69-8e5a-d058aca51e48",
   "metadata": {},
   "source": [
    "b. Comment on how the likelihood of being delayed change throughout the day? What is the probability of being delayed given each time period?"
   ]
  },
  {
   "cell_type": "markdown",
   "id": "79f0450b-d71a-4b5d-af39-b4c365764e66",
   "metadata": {},
   "source": [
    "|Hour Interval|Probability Flight Being Delayed|\n",
    "|-------------|------------------|\n",
    "|12:00am to 6am|1.3%||\n",
    "|6:01am to 12:00pm|23.5%|\n",
    "|12:01pm to 6pm|41.2%|\n",
    "|6:01pm to 11:59pm|34%|"
   ]
  },
  {
   "cell_type": "markdown",
   "id": "bb24de72-6269-498e-859d-7c607aa452b1",
   "metadata": {},
   "source": [
    "From the table above, most flights are delayed in the afternoon and evening, with a peak between 12:00pm to 6:00pm. Here, the probability your flight would be delayed is 41.2%. In contrast, the probability your flights would be delayed is the lowest in the early morning, from 12:00am to 6:00am, at only 1.3%."
   ]
  },
  {
   "cell_type": "markdown",
   "id": "85b55245-19d9-4114-a3a6-60acc4c14a21",
   "metadata": {
    "jp-MarkdownHeadingCollapsed": true
   },
   "source": [
    "# 5. Question 5 (15 points)\n",
    "Find the flight with the longest air time."
   ]
  },
  {
   "cell_type": "code",
   "execution_count": 77,
   "id": "7ec42d5e-71dd-4125-aee9-50c201e0ccdc",
   "metadata": {},
   "outputs": [
    {
     "data": {
      "text/html": [
       "<div>\n",
       "<style scoped>\n",
       "    .dataframe tbody tr th:only-of-type {\n",
       "        vertical-align: middle;\n",
       "    }\n",
       "\n",
       "    .dataframe tbody tr th {\n",
       "        vertical-align: top;\n",
       "    }\n",
       "\n",
       "    .dataframe thead th {\n",
       "        text-align: right;\n",
       "    }\n",
       "</style>\n",
       "<table border=\"1\" class=\"dataframe\">\n",
       "  <thead>\n",
       "    <tr style=\"text-align: right;\">\n",
       "      <th></th>\n",
       "      <th>year</th>\n",
       "      <th>month</th>\n",
       "      <th>day</th>\n",
       "      <th>dep_time</th>\n",
       "      <th>sched_dep_time</th>\n",
       "      <th>dep_delay</th>\n",
       "      <th>arr_time</th>\n",
       "      <th>sched_arr_time</th>\n",
       "      <th>arr_delay</th>\n",
       "      <th>carrier</th>\n",
       "      <th>flight</th>\n",
       "      <th>tailnum</th>\n",
       "      <th>origin</th>\n",
       "      <th>dest</th>\n",
       "      <th>air_time</th>\n",
       "      <th>distance</th>\n",
       "      <th>hour</th>\n",
       "      <th>minute</th>\n",
       "      <th>time_hour</th>\n",
       "    </tr>\n",
       "  </thead>\n",
       "  <tbody>\n",
       "    <tr>\n",
       "      <th>151467</th>\n",
       "      <td>2013</td>\n",
       "      <td>3</td>\n",
       "      <td>17</td>\n",
       "      <td>1337.0</td>\n",
       "      <td>1335</td>\n",
       "      <td>2.0</td>\n",
       "      <td>1937.0</td>\n",
       "      <td>1836</td>\n",
       "      <td>61.0</td>\n",
       "      <td>UA</td>\n",
       "      <td>15</td>\n",
       "      <td>N77066</td>\n",
       "      <td>EWR</td>\n",
       "      <td>HNL</td>\n",
       "      <td>695.0</td>\n",
       "      <td>4963.0</td>\n",
       "      <td>13.0</td>\n",
       "      <td>35.0</td>\n",
       "      <td>2013-03-17 17:00:00</td>\n",
       "    </tr>\n",
       "  </tbody>\n",
       "</table>\n",
       "</div>"
      ],
      "text/plain": [
       "        year  month  day  dep_time  sched_dep_time  dep_delay  arr_time  \\\n",
       "151467  2013      3   17    1337.0            1335        2.0    1937.0   \n",
       "\n",
       "        sched_arr_time  arr_delay carrier  flight tailnum origin dest  \\\n",
       "151467            1836       61.0      UA      15  N77066    EWR  HNL   \n",
       "\n",
       "        air_time  distance  hour  minute            time_hour  \n",
       "151467     695.0    4963.0  13.0    35.0  2013-03-17 17:00:00  "
      ]
     },
     "execution_count": 77,
     "metadata": {},
     "output_type": "execute_result"
    }
   ],
   "source": [
    "longest_flight = df_flights.sort_values('air_time', ascending = False).head(1)\n",
    "longest_flight"
   ]
  },
  {
   "cell_type": "markdown",
   "id": "658358be-4eef-4123-af67-c2834d3e95d3",
   "metadata": {},
   "source": [
    "a. How long is this flight?"
   ]
  },
  {
   "cell_type": "code",
   "execution_count": 79,
   "id": "ab1e4300-2529-4b08-a19e-7d9a0315aa23",
   "metadata": {},
   "outputs": [
    {
     "data": {
      "text/plain": [
       "151467    600.0\n",
       "dtype: float64"
      ]
     },
     "execution_count": 79,
     "metadata": {},
     "output_type": "execute_result"
    }
   ],
   "source": [
    "longest_flight['arr_time'] - longest_flight['dep_time']"
   ]
  },
  {
   "cell_type": "markdown",
   "id": "1ecdc7dd-2a1e-40d3-b834-ace262f881f1",
   "metadata": {},
   "source": [
    "For the longest flight, **six hours** elapsed from the departure time to the arrival time. "
   ]
  },
  {
   "cell_type": "markdown",
   "id": "be6dd215-2ee6-466a-a01f-ecef8a80174f",
   "metadata": {},
   "source": [
    "b. What city did it fly to?"
   ]
  },
  {
   "cell_type": "code",
   "execution_count": 78,
   "id": "3f03a2e6-7a9c-4854-9d43-9d0ba33f3a5a",
   "metadata": {},
   "outputs": [
    {
     "data": {
      "text/plain": [
       "151467    HNL\n",
       "Name: dest, dtype: object"
      ]
     },
     "execution_count": 78,
     "metadata": {},
     "output_type": "execute_result"
    }
   ],
   "source": [
    "longest_flight['dest']"
   ]
  },
  {
   "cell_type": "markdown",
   "id": "ca1102c4-ae1e-4284-9a81-9f8b822f3623",
   "metadata": {},
   "source": [
    "This longest flight landed at the \n",
    "Daniel K. Inouye International Airport(HNL) in **Honolulu, Hawaii**. "
   ]
  },
  {
   "cell_type": "markdown",
   "id": "fbb141a8-06ab-4fc6-9db6-bb5f9b7820b6",
   "metadata": {},
   "source": [
    "c. How many seats does the plane that flew this flight have?"
   ]
  },
  {
   "cell_type": "markdown",
   "id": "993beeaf-d3d3-43b5-ab77-c67749dfe4fa",
   "metadata": {},
   "source": [
    "This plane is a Boeing 767-424ER (B764), equipped with a total of **242 seats**."
   ]
  },
  {
   "cell_type": "markdown",
   "id": "a5645ef3-6988-4b3b-b327-8dbde875e683",
   "metadata": {},
   "source": [
    "# 6. Question 6 (15 pts)\n",
    "The airports data frame contains information on a large number of primarily American airports. These data include location information for these airports in the form of latitude and longitude coordinates. In this question we limit our focus to the Contiguous United States. Visualize and describe the distribution of the longitudes of airports in the Contiguous United States. What does this tell you about the geographical distribution of these airports?"
   ]
  },
  {
   "cell_type": "markdown",
   "id": "d44f8bcd-7183-4bf7-a221-d4fac8584815",
   "metadata": {},
   "source": [
    "Hint: I used a histogram, but I could imagine some other really nice ways to do this.\n",
    "\n",
    "Hint: You will first need to limit your analysis to the Contiguous United States. This Wikipedia article can help, but you’re welcomed to use other resources as well. Make sure to cite whatever resource you use."
   ]
  },
  {
   "cell_type": "code",
   "execution_count": 81,
   "id": "0d72d0cb-be9f-4880-9259-c94ad4e97a8a",
   "metadata": {},
   "outputs": [
    {
     "data": {
      "text/html": [
       "<div>\n",
       "<style scoped>\n",
       "    .dataframe tbody tr th:only-of-type {\n",
       "        vertical-align: middle;\n",
       "    }\n",
       "\n",
       "    .dataframe tbody tr th {\n",
       "        vertical-align: top;\n",
       "    }\n",
       "\n",
       "    .dataframe thead th {\n",
       "        text-align: right;\n",
       "    }\n",
       "</style>\n",
       "<table border=\"1\" class=\"dataframe\">\n",
       "  <thead>\n",
       "    <tr style=\"text-align: right;\">\n",
       "      <th></th>\n",
       "      <th>faa</th>\n",
       "      <th>name</th>\n",
       "      <th>lat</th>\n",
       "      <th>lon</th>\n",
       "      <th>alt</th>\n",
       "      <th>tz</th>\n",
       "      <th>dst</th>\n",
       "      <th>tzone</th>\n",
       "    </tr>\n",
       "  </thead>\n",
       "  <tbody>\n",
       "    <tr>\n",
       "      <th>0</th>\n",
       "      <td>04G</td>\n",
       "      <td>Lansdowne Airport</td>\n",
       "      <td>41.130472</td>\n",
       "      <td>-80.619583</td>\n",
       "      <td>1044.0</td>\n",
       "      <td>-5.0</td>\n",
       "      <td>A</td>\n",
       "      <td>America/New_York</td>\n",
       "    </tr>\n",
       "    <tr>\n",
       "      <th>1</th>\n",
       "      <td>06A</td>\n",
       "      <td>Moton Field Municipal Airport</td>\n",
       "      <td>32.460572</td>\n",
       "      <td>-85.680028</td>\n",
       "      <td>264.0</td>\n",
       "      <td>-6.0</td>\n",
       "      <td>A</td>\n",
       "      <td>America/Chicago</td>\n",
       "    </tr>\n",
       "    <tr>\n",
       "      <th>2</th>\n",
       "      <td>06C</td>\n",
       "      <td>Schaumburg Regional</td>\n",
       "      <td>41.989341</td>\n",
       "      <td>-88.101243</td>\n",
       "      <td>801.0</td>\n",
       "      <td>-6.0</td>\n",
       "      <td>A</td>\n",
       "      <td>America/Chicago</td>\n",
       "    </tr>\n",
       "    <tr>\n",
       "      <th>3</th>\n",
       "      <td>06N</td>\n",
       "      <td>Randall Airport</td>\n",
       "      <td>41.431912</td>\n",
       "      <td>-74.391561</td>\n",
       "      <td>523.0</td>\n",
       "      <td>-5.0</td>\n",
       "      <td>A</td>\n",
       "      <td>America/New_York</td>\n",
       "    </tr>\n",
       "    <tr>\n",
       "      <th>4</th>\n",
       "      <td>09J</td>\n",
       "      <td>Jekyll Island Airport</td>\n",
       "      <td>31.074472</td>\n",
       "      <td>-81.427778</td>\n",
       "      <td>11.0</td>\n",
       "      <td>-5.0</td>\n",
       "      <td>A</td>\n",
       "      <td>America/New_York</td>\n",
       "    </tr>\n",
       "    <tr>\n",
       "      <th>...</th>\n",
       "      <td>...</td>\n",
       "      <td>...</td>\n",
       "      <td>...</td>\n",
       "      <td>...</td>\n",
       "      <td>...</td>\n",
       "      <td>...</td>\n",
       "      <td>...</td>\n",
       "      <td>...</td>\n",
       "    </tr>\n",
       "    <tr>\n",
       "      <th>1453</th>\n",
       "      <td>ZUN</td>\n",
       "      <td>Black Rock</td>\n",
       "      <td>35.083228</td>\n",
       "      <td>-108.791778</td>\n",
       "      <td>6454.0</td>\n",
       "      <td>-7.0</td>\n",
       "      <td>A</td>\n",
       "      <td>America/Denver</td>\n",
       "    </tr>\n",
       "    <tr>\n",
       "      <th>1454</th>\n",
       "      <td>ZVE</td>\n",
       "      <td>New Haven Rail Station</td>\n",
       "      <td>41.298669</td>\n",
       "      <td>-72.925992</td>\n",
       "      <td>7.0</td>\n",
       "      <td>-5.0</td>\n",
       "      <td>A</td>\n",
       "      <td>America/New_York</td>\n",
       "    </tr>\n",
       "    <tr>\n",
       "      <th>1455</th>\n",
       "      <td>ZWI</td>\n",
       "      <td>Wilmington Amtrak Station</td>\n",
       "      <td>39.736667</td>\n",
       "      <td>-75.551667</td>\n",
       "      <td>0.0</td>\n",
       "      <td>-5.0</td>\n",
       "      <td>A</td>\n",
       "      <td>America/New_York</td>\n",
       "    </tr>\n",
       "    <tr>\n",
       "      <th>1456</th>\n",
       "      <td>ZWU</td>\n",
       "      <td>Washington Union Station</td>\n",
       "      <td>38.897460</td>\n",
       "      <td>-77.006430</td>\n",
       "      <td>76.0</td>\n",
       "      <td>-5.0</td>\n",
       "      <td>A</td>\n",
       "      <td>America/New_York</td>\n",
       "    </tr>\n",
       "    <tr>\n",
       "      <th>1457</th>\n",
       "      <td>ZYP</td>\n",
       "      <td>Penn Station</td>\n",
       "      <td>40.750500</td>\n",
       "      <td>-73.993500</td>\n",
       "      <td>35.0</td>\n",
       "      <td>-5.0</td>\n",
       "      <td>A</td>\n",
       "      <td>America/New_York</td>\n",
       "    </tr>\n",
       "  </tbody>\n",
       "</table>\n",
       "<p>1458 rows × 8 columns</p>\n",
       "</div>"
      ],
      "text/plain": [
       "      faa                           name        lat         lon     alt   tz  \\\n",
       "0     04G              Lansdowne Airport  41.130472  -80.619583  1044.0 -5.0   \n",
       "1     06A  Moton Field Municipal Airport  32.460572  -85.680028   264.0 -6.0   \n",
       "2     06C            Schaumburg Regional  41.989341  -88.101243   801.0 -6.0   \n",
       "3     06N                Randall Airport  41.431912  -74.391561   523.0 -5.0   \n",
       "4     09J          Jekyll Island Airport  31.074472  -81.427778    11.0 -5.0   \n",
       "...   ...                            ...        ...         ...     ...  ...   \n",
       "1453  ZUN                     Black Rock  35.083228 -108.791778  6454.0 -7.0   \n",
       "1454  ZVE         New Haven Rail Station  41.298669  -72.925992     7.0 -5.0   \n",
       "1455  ZWI      Wilmington Amtrak Station  39.736667  -75.551667     0.0 -5.0   \n",
       "1456  ZWU       Washington Union Station  38.897460  -77.006430    76.0 -5.0   \n",
       "1457  ZYP                   Penn Station  40.750500  -73.993500    35.0 -5.0   \n",
       "\n",
       "     dst             tzone  \n",
       "0      A  America/New_York  \n",
       "1      A   America/Chicago  \n",
       "2      A   America/Chicago  \n",
       "3      A  America/New_York  \n",
       "4      A  America/New_York  \n",
       "...   ..               ...  \n",
       "1453   A    America/Denver  \n",
       "1454   A  America/New_York  \n",
       "1455   A  America/New_York  \n",
       "1456   A  America/New_York  \n",
       "1457   A  America/New_York  \n",
       "\n",
       "[1458 rows x 8 columns]"
      ]
     },
     "execution_count": 81,
     "metadata": {},
     "output_type": "execute_result"
    }
   ],
   "source": [
    "# Insert code here\n",
    "# Load airports data\n",
    "df_airports = pd.read_csv(airports_file_location)\n",
    "df_airports"
   ]
  }
 ],
 "metadata": {
  "kernelspec": {
   "display_name": "Python 3 (ipykernel)",
   "language": "python",
   "name": "python3"
  },
  "language_info": {
   "codemirror_mode": {
    "name": "ipython",
    "version": 3
   },
   "file_extension": ".py",
   "mimetype": "text/x-python",
   "name": "python",
   "nbconvert_exporter": "python",
   "pygments_lexer": "ipython3",
   "version": "3.11.7"
  }
 },
 "nbformat": 4,
 "nbformat_minor": 5
}
